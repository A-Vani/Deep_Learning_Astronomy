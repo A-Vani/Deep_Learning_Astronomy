{
 "cells": [
  {
   "cell_type": "markdown",
   "metadata": {
    "id": "cr1YFBS_bfNY"
   },
   "source": [
    "**The goal**: To use tensorflow and find out given the an image of a galxy (from SDSS), whether the galaxy is spiral or elliptical.\n",
    "\n",
    "The idea is to use a convolution neural network which are multi layer neural network whose input is considered to be images."
   ]
  },
  {
   "cell_type": "markdown",
   "metadata": {
    "id": "BlkPNwkEbfNc"
   },
   "source": [
    "Code by Akash"
   ]
  },
  {
   "cell_type": "code",
   "execution_count": 1,
   "metadata": {
    "id": "RjD4ffx6bfNf"
   },
   "outputs": [],
   "source": [
    "#import required libraries\n",
    "import pandas as pd\n",
    "import numpy as np\n",
    "\n",
    "#for plotting\n",
    "import matplotlib\n",
    "import matplotlib.pyplot as plt\n",
    "import matplotlib.ticker as ticker\n",
    "\n",
    "%matplotlib inline"
   ]
  },
  {
   "cell_type": "markdown",
   "metadata": {
    "id": "lt5UFOQ_bfN1"
   },
   "source": [
    "Import a simple sequnecial model and the required CNN models "
   ]
  },
  {
   "cell_type": "code",
   "execution_count": 2,
   "metadata": {
    "id": "9OPb9YABbfN3"
   },
   "outputs": [],
   "source": [
    "#import the sequencial model\n",
    "from tensorflow.keras.models import Sequential\n",
    "\n",
    "#import the core layers\n",
    "from tensorflow.keras.layers import Dense, Flatten\n",
    "\n",
    "#import CNN layers to help train image data\n",
    "from tensorflow.keras.layers import Conv2D, MaxPooling2D\n",
    "\n",
    "#\n",
    "from tensorflow.keras.preprocessing.image import ImageDataGenerator"
   ]
  },
  {
   "cell_type": "code",
   "execution_count": 3,
   "metadata": {
    "id": "yQVdQt2LbfOD"
   },
   "outputs": [],
   "source": [
    "#create the model\n",
    "model = Sequential()\n",
    "\n",
    "#first convolutional layer. A RGB image will have a depth of 3\n",
    "model.add(Conv2D(32, (3, 3), input_shape = (64, 64, 3), activation = 'relu'))\n",
    "\n",
    "#define the maxpooling layer\n",
    "model.add(MaxPooling2D(pool_size=(2, 2), data_format=\"channels_first\"))\n",
    "\n",
    "#layer to flatten the data\n",
    "model.add(Flatten())\n",
    "\n",
    "#more layers\n",
    "model.add(Dense(units = 128, activation = 'relu'))\n",
    "model.add(Dense(units = 1, activation = 'sigmoid'))\n",
    "\n",
    "#complie the model\n",
    "model.compile(optimizer = 'adam', loss = 'binary_crossentropy', metrics = ['accuracy'])"
   ]
  },
  {
   "cell_type": "code",
   "execution_count": 5,
   "metadata": {
    "id": "ao_8Ekt3bfOP"
   },
   "outputs": [],
   "source": [
    "#import the data\n",
    "import sys\n",
    "path_to_data = 'img_data/'\n",
    "sys.path.insert(1, path_to_data)"
   ]
  },
  {
   "cell_type": "code",
   "execution_count": 6,
   "metadata": {
    "colab": {
     "base_uri": "https://localhost:8080/",
     "height": 285
    },
    "id": "pBkySiUEbfOa",
    "outputId": "5da93885-d01a-4acb-8ca3-fb47b1554399"
   },
   "outputs": [
    {
     "data": {
      "text/plain": [
       "<matplotlib.image.AxesImage at 0x7ff7a0023ba8>"
      ]
     },
     "execution_count": 6,
     "metadata": {
      "tags": []
     },
     "output_type": "execute_result"
    },
    {
     "data": {
      "image/png": "[encoded data removed]",
      "text/plain": [
       "<Figure size 432x288 with 1 Axes>"
      ]
     },
     "metadata": {
      "needs_background": "light",
      "tags": []
     },
     "output_type": "display_data"
    }
   ],
   "source": [
    "#take a quick look at one of the image\n",
    "from PIL import Image\n",
    "im = Image.open(path_to_data+'Training/Elliptical/img_1.jpeg')\n",
    "plt.imshow(im)"
   ]
  },
  {
   "cell_type": "code",
   "execution_count": 7,
   "metadata": {
    "colab": {
     "base_uri": "https://localhost:8080/",
     "height": 50
    },
    "id": "Ys-gQtdhbfOq",
    "outputId": "b50bc462-98c9-41ef-a088-824c40f6fe2f"
   },
   "outputs": [
    {
     "name": "stdout",
     "output_type": "stream",
     "text": [
      "Found 1470 images belonging to 2 classes.\n",
      "Found 630 images belonging to 2 classes.\n"
     ]
    }
   ],
   "source": [
    "#preprocess the images\n",
    "train_data_gen = ImageDataGenerator(rescale = 1./255, shear_range = 0.2, zoom_range = 0.2, horizontal_flip = True)\n",
    "test_data_gen = ImageDataGenerator(rescale = 1./255)\n",
    "\n",
    "#define the training and test set\n",
    "training_img_set = train_data_gen.flow_from_directory(path_to_data + 'Training', target_size = (64, 64), batch_size = 32, class_mode = 'binary')\n",
    "test_img_set = test_data_gen.flow_from_directory(path_to_data + 'Testing',target_size = (64, 64), batch_size = 32, class_mode = 'binary')"
   ]
  },
  {
   "cell_type": "code",
   "execution_count": 12,
   "metadata": {
    "colab": {
     "base_uri": "https://localhost:8080/",
     "height": 370
    },
    "id": "Thve0_MTbfO2",
    "outputId": "39fb9243-0819-4be6-bfe0-0433e90565c7"
   },
   "outputs": [
    {
     "name": "stdout",
     "output_type": "stream",
     "text": [
      "Epoch 1/10\n",
      "20/20 [==============================] - 1s 65ms/step - loss: 0.1488 - accuracy: 0.9420\n",
      "Epoch 2/10\n",
      "20/20 [==============================] - 1s 67ms/step - loss: 0.1855 - accuracy: 0.9357\n",
      "Epoch 3/10\n",
      "20/20 [==============================] - 1s 66ms/step - loss: 0.1563 - accuracy: 0.9422\n",
      "Epoch 4/10\n",
      "20/20 [==============================] - 1s 65ms/step - loss: 0.1626 - accuracy: 0.9297\n",
      "Epoch 5/10\n",
      "20/20 [==============================] - 1s 64ms/step - loss: 0.1651 - accuracy: 0.9359\n",
      "Epoch 6/10\n",
      "20/20 [==============================] - 1s 65ms/step - loss: 0.1639 - accuracy: 0.9359\n",
      "Epoch 7/10\n",
      "20/20 [==============================] - 1s 66ms/step - loss: 0.1868 - accuracy: 0.9250\n",
      "Epoch 8/10\n",
      "20/20 [==============================] - 1s 65ms/step - loss: 0.1752 - accuracy: 0.9248\n",
      "Epoch 9/10\n",
      "20/20 [==============================] - 1s 66ms/step - loss: 0.1299 - accuracy: 0.9484\n",
      "Epoch 10/10\n",
      "20/20 [==============================] - 1s 64ms/step - loss: 0.1508 - accuracy: 0.9357\n"
     ]
    },
    {
     "data": {
      "text/plain": [
       "<tensorflow.python.keras.callbacks.History at 0x7ff73a395630>"
      ]
     },
     "execution_count": 12,
     "metadata": {
      "tags": []
     },
     "output_type": "execute_result"
    }
   ],
   "source": [
    "#train the model\n",
    "model.fit(training_img_set, steps_per_epoch = 20, epochs = 10, validation_data = test_img_set, validation_steps = 100)"
   ]
  },
  {
   "cell_type": "code",
   "execution_count": 13,
   "metadata": {
    "colab": {
     "base_uri": "https://localhost:8080/",
     "height": 319
    },
    "id": "-rG46VYWbfPI",
    "outputId": "5acd3aa4-838a-4b4c-d001-8d6ea5946494"
   },
   "outputs": [
    {
     "name": "stdout",
     "output_type": "stream",
     "text": [
      "Model: \"sequential\"\n",
      "_________________________________________________________________\n",
      "Layer (type)                 Output Shape              Param #   \n",
      "=================================================================\n",
      "conv2d (Conv2D)              (None, 62, 62, 32)        896       \n",
      "_________________________________________________________________\n",
      "max_pooling2d (MaxPooling2D) (None, 62, 31, 16)        0         \n",
      "_________________________________________________________________\n",
      "flatten (Flatten)            (None, 30752)             0         \n",
      "_________________________________________________________________\n",
      "dense (Dense)                (None, 128)               3936384   \n",
      "_________________________________________________________________\n",
      "dense_1 (Dense)              (None, 1)                 129       \n",
      "=================================================================\n",
      "Total params: 3,937,409\n",
      "Trainable params: 3,937,409\n",
      "Non-trainable params: 0\n",
      "_________________________________________________________________\n"
     ]
    }
   ],
   "source": [
    "model.summary()"
   ]
  },
  {
   "cell_type": "code",
   "execution_count": 14,
   "metadata": {
    "colab": {
     "base_uri": "https://localhost:8080/",
     "height": 34
    },
    "id": "s_g6quSvgetV",
    "outputId": "a797142b-c554-4aab-fb63-286449dbe24f"
   },
   "outputs": [
    {
     "name": "stdout",
     "output_type": "stream",
     "text": [
      "46/46 [==============================] - 3s 65ms/step - loss: 0.1455 - accuracy: 0.9374\n"
     ]
    }
   ],
   "source": [
    "score = model.evaluate(training_img_set)"
   ]
  },
  {
   "cell_type": "markdown",
   "metadata": {
    "id": "gxGeOifUbfPR"
   },
   "source": [
    "#### Note :\n",
    "The data was provided by Ashish Mahabal during the 7BISS (2020) summer school."
   ]
  }
 ],
 "metadata": {
  "accelerator": "GPU",
  "colab": {
   "name": "DL_spiral_or_elliptical_images.ipynb",
   "provenance": []
  },
  "kernelspec": {
   "display_name": "Python 3",
   "language": "python",
   "name": "python3"
  },
  "language_info": {
   "codemirror_mode": {
    "name": "ipython",
    "version": 3
   },
   "file_extension": ".py",
   "mimetype": "text/x-python",
   "name": "python",
   "nbconvert_exporter": "python",
   "pygments_lexer": "ipython3",
   "version": "3.7.5"
  }
 },
 "nbformat": 4,
 "nbformat_minor": 1
}
