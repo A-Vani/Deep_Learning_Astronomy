{
 "cells": [
  {
   "cell_type": "markdown",
   "metadata": {},
   "source": [
    "**The goal**: To use tensorflow and find out given the color in the *u, g, r, i, z* SDSS colors, whether the galaxy is spiral or elliptical."
   ]
  },
  {
   "cell_type": "markdown",
   "metadata": {},
   "source": [
    "Code by Akash"
   ]
  },
  {
   "cell_type": "code",
   "execution_count": 16,
   "metadata": {},
   "outputs": [],
   "source": [
    "#import required libraries\n",
    "import pandas as pd\n",
    "import numpy as np\n",
    "\n",
    "#for plotting\n",
    "import matplotlib\n",
    "import matplotlib.pyplot as plt\n",
    "import matplotlib.ticker as ticker\n",
    "\n",
    "%matplotlib inline"
   ]
  },
  {
   "cell_type": "markdown",
   "metadata": {},
   "source": [
    "Import the training data"
   ]
  },
  {
   "cell_type": "code",
   "execution_count": 17,
   "metadata": {},
   "outputs": [
    {
     "name": "stdout",
     "output_type": "stream",
     "text": [
      "                 objid          ra       dec   dered_u   dered_g   dered_r  \\\n",
      "0  1237651735767089483  203.212508  1.776334  20.59246  18.43699  17.29543   \n",
      "1  1237651736301273204  196.978298  2.410545  20.15860  18.54551  17.60912   \n",
      "2  1237651736301535411  197.655144  2.354430  17.57647  15.53627  14.64584   \n",
      "\n",
      "    dered_i   dered_z  spiral  elliptical  \n",
      "0  16.85062  16.51740       0           1  \n",
      "1  17.17195  16.85061       0           1  \n",
      "2  14.23690  13.94348       0           1  \n"
     ]
    }
   ],
   "source": [
    "#read the training data\n",
    "color_data = pd.read_csv('color_data/train_colors.csv')\n",
    "\n",
    "#view the data\n",
    "print(color_data[:3])"
   ]
  },
  {
   "cell_type": "code",
   "execution_count": 18,
   "metadata": {},
   "outputs": [],
   "source": [
    "#calculate the dereddened colors\n",
    "u_g = color_data['dered_u'] - color_data['dered_g']\n",
    "g_r = color_data['dered_g'] - color_data['dered_r']\n",
    "r_i = color_data['dered_r'] - color_data['dered_i']\n",
    "i_z = color_data['dered_i'] - color_data['dered_z']"
   ]
  },
  {
   "cell_type": "code",
   "execution_count": 19,
   "metadata": {},
   "outputs": [],
   "source": [
    "#stack the colors\n",
    "train_colors = np.column_stack((u_g.values, g_r.values, r_i.values, i_z.values))\n",
    "train_color_results = np.array(color_data['spiral'])"
   ]
  },
  {
   "cell_type": "markdown",
   "metadata": {},
   "source": [
    "Import the testing data"
   ]
  },
  {
   "cell_type": "code",
   "execution_count": 20,
   "metadata": {},
   "outputs": [
    {
     "name": "stdout",
     "output_type": "stream",
     "text": [
      "                 objid          ra        dec   dered_u   dered_g   dered_r  \\\n",
      "0  1237655129304334664  251.372798  40.185917  19.81191  18.12140  17.26343   \n",
      "1  1237655129304400133  251.437499  40.160755  19.86400  18.09361  17.05764   \n",
      "2  1237655129841139938  251.623850  40.639430  19.20150  18.26602  17.70823   \n",
      "\n",
      "    dered_i   dered_z  spiral  elliptical  \n",
      "0  16.81470  16.48556       1           0  \n",
      "1  16.56223  16.18970       1           0  \n",
      "2  17.37052  17.16312       1           0  \n"
     ]
    }
   ],
   "source": [
    "#read the training data\n",
    "color_data = pd.read_csv('color_data/test_colors.csv')\n",
    "\n",
    "#view the data\n",
    "print(color_data[:3])"
   ]
  },
  {
   "cell_type": "code",
   "execution_count": 21,
   "metadata": {},
   "outputs": [],
   "source": [
    "test_u_g = color_data['dered_u'] - color_data['dered_g']\n",
    "test_g_r = color_data['dered_g'] - color_data['dered_r']\n",
    "test_r_i = color_data['dered_r'] - color_data['dered_i']\n",
    "test_i_z = color_data['dered_i'] - color_data['dered_z']"
   ]
  },
  {
   "cell_type": "code",
   "execution_count": 22,
   "metadata": {},
   "outputs": [],
   "source": [
    "#stack the colors\n",
    "test_col = np.column_stack((test_u_g.values, test_g_r.values, test_r_i.values, test_i_z.values))\n",
    "test_col_results = np.array(color_data['spiral'])"
   ]
  },
  {
   "cell_type": "markdown",
   "metadata": {},
   "source": [
    "Import tensorflow"
   ]
  },
  {
   "cell_type": "code",
   "execution_count": 23,
   "metadata": {},
   "outputs": [],
   "source": [
    "import tensorflow as tf\n",
    "from tensorflow.keras.models import Sequential\n",
    "from tensorflow.keras.layers import Dense\n",
    "from tensorflow.keras.utils import plot_model\n",
    "import pydot"
   ]
  },
  {
   "cell_type": "code",
   "execution_count": 24,
   "metadata": {},
   "outputs": [],
   "source": [
    "#fix random seed for reproducibility\n",
    "seed = 10\n",
    "np.random.seed(seed)"
   ]
  },
  {
   "cell_type": "markdown",
   "metadata": {},
   "source": [
    "Design and complie a simple sequencial model"
   ]
  },
  {
   "cell_type": "code",
   "execution_count": 25,
   "metadata": {},
   "outputs": [
    {
     "name": "stdout",
     "output_type": "stream",
     "text": [
      "Model: \"sequential_1\"\n",
      "_________________________________________________________________\n",
      "Layer (type)                 Output Shape              Param #   \n",
      "=================================================================\n",
      "dense_3 (Dense)              (None, 8)                 40        \n",
      "_________________________________________________________________\n",
      "dense_4 (Dense)              (None, 4)                 36        \n",
      "_________________________________________________________________\n",
      "dense_5 (Dense)              (None, 1)                 5         \n",
      "=================================================================\n",
      "Total params: 81\n",
      "Trainable params: 81\n",
      "Non-trainable params: 0\n",
      "_________________________________________________________________\n"
     ]
    }
   ],
   "source": [
    "#design a neural network\n",
    "model = Sequential()\n",
    "model.add(Dense(8, input_dim=4, activation='relu'))\n",
    "model.add(Dense(4, activation='relu'))\n",
    "model.add(Dense(1, activation='sigmoid'))\n",
    "\n",
    "#compile the model\n",
    "model.compile(loss='binary_crossentropy', optimizer='adam', metrics=['accuracy'])\n",
    "model.summary()\n",
    "\n",
    "#you can print the model\n",
    "#plot_model(model, show_shapes=True, show_layer_names=True)"
   ]
  },
  {
   "cell_type": "markdown",
   "metadata": {},
   "source": [
    "Train/fit the model"
   ]
  },
  {
   "cell_type": "code",
   "execution_count": 26,
   "metadata": {},
   "outputs": [
    {
     "name": "stdout",
     "output_type": "stream",
     "text": [
      "Epoch 1/200\n",
      "210/210 - 1s - loss: 0.6932 - accuracy: 0.5157 - val_loss: 0.6942 - val_accuracy: 0.4433\n",
      "Epoch 2/200\n",
      "210/210 - 1s - loss: 0.6886 - accuracy: 0.5600 - val_loss: 0.6881 - val_accuracy: 0.6711\n",
      "Epoch 3/200\n",
      "210/210 - 1s - loss: 0.6804 - accuracy: 0.7738 - val_loss: 0.6781 - val_accuracy: 0.7567\n",
      "Epoch 4/200\n",
      "210/210 - 1s - loss: 0.6658 - accuracy: 0.8019 - val_loss: 0.6514 - val_accuracy: 0.7722\n",
      "Epoch 5/200\n",
      "210/210 - 1s - loss: 0.6441 - accuracy: 0.7829 - val_loss: 0.6312 - val_accuracy: 0.8044\n",
      "Epoch 6/200\n",
      "210/210 - 1s - loss: 0.6181 - accuracy: 0.7871 - val_loss: 0.5954 - val_accuracy: 0.8000\n",
      "Epoch 7/200\n",
      "210/210 - 1s - loss: 0.5914 - accuracy: 0.7938 - val_loss: 0.5741 - val_accuracy: 0.8000\n",
      "Epoch 8/200\n",
      "210/210 - 1s - loss: 0.5659 - accuracy: 0.7995 - val_loss: 0.5352 - val_accuracy: 0.7678\n",
      "Epoch 9/200\n",
      "210/210 - 1s - loss: 0.5429 - accuracy: 0.8081 - val_loss: 0.5190 - val_accuracy: 0.8000\n",
      "Epoch 10/200\n",
      "210/210 - 1s - loss: 0.5251 - accuracy: 0.7976 - val_loss: 0.4996 - val_accuracy: 0.8000\n",
      "Epoch 11/200\n",
      "210/210 - 1s - loss: 0.5082 - accuracy: 0.8114 - val_loss: 0.4829 - val_accuracy: 0.8000\n",
      "Epoch 12/200\n",
      "210/210 - 1s - loss: 0.4964 - accuracy: 0.8081 - val_loss: 0.4737 - val_accuracy: 0.8044\n",
      "Epoch 13/200\n",
      "210/210 - 1s - loss: 0.4832 - accuracy: 0.8186 - val_loss: 0.4609 - val_accuracy: 0.8044\n",
      "Epoch 14/200\n",
      "210/210 - 1s - loss: 0.4753 - accuracy: 0.8171 - val_loss: 0.4598 - val_accuracy: 0.8122\n",
      "Epoch 15/200\n",
      "210/210 - 1s - loss: 0.4679 - accuracy: 0.8162 - val_loss: 0.4466 - val_accuracy: 0.8056\n",
      "Epoch 16/200\n",
      "210/210 - 1s - loss: 0.4622 - accuracy: 0.8186 - val_loss: 0.4432 - val_accuracy: 0.8089\n",
      "Epoch 17/200\n",
      "210/210 - 1s - loss: 0.4565 - accuracy: 0.8190 - val_loss: 0.4353 - val_accuracy: 0.8067\n",
      "Epoch 18/200\n",
      "210/210 - 1s - loss: 0.4508 - accuracy: 0.8186 - val_loss: 0.4331 - val_accuracy: 0.8089\n",
      "Epoch 19/200\n",
      "210/210 - 1s - loss: 0.4470 - accuracy: 0.8219 - val_loss: 0.4346 - val_accuracy: 0.8133\n",
      "Epoch 20/200\n",
      "210/210 - 1s - loss: 0.4435 - accuracy: 0.8152 - val_loss: 0.4257 - val_accuracy: 0.8133\n",
      "Epoch 21/200\n",
      "210/210 - 1s - loss: 0.4393 - accuracy: 0.8181 - val_loss: 0.4263 - val_accuracy: 0.8178\n",
      "Epoch 22/200\n",
      "210/210 - 1s - loss: 0.4367 - accuracy: 0.8229 - val_loss: 0.4360 - val_accuracy: 0.8144\n",
      "Epoch 23/200\n",
      "210/210 - 1s - loss: 0.4357 - accuracy: 0.8176 - val_loss: 0.4224 - val_accuracy: 0.8211\n",
      "Epoch 24/200\n",
      "210/210 - 1s - loss: 0.4335 - accuracy: 0.8238 - val_loss: 0.4179 - val_accuracy: 0.8189\n",
      "Epoch 25/200\n",
      "210/210 - 1s - loss: 0.4303 - accuracy: 0.8224 - val_loss: 0.4227 - val_accuracy: 0.8256\n",
      "Epoch 26/200\n",
      "210/210 - 1s - loss: 0.4271 - accuracy: 0.8252 - val_loss: 0.4232 - val_accuracy: 0.8200\n",
      "Epoch 27/200\n",
      "210/210 - 1s - loss: 0.4255 - accuracy: 0.8290 - val_loss: 0.4140 - val_accuracy: 0.8256\n",
      "Epoch 28/200\n",
      "210/210 - 1s - loss: 0.4252 - accuracy: 0.8324 - val_loss: 0.4083 - val_accuracy: 0.8144\n",
      "Epoch 29/200\n",
      "210/210 - 1s - loss: 0.4237 - accuracy: 0.8281 - val_loss: 0.4073 - val_accuracy: 0.8233\n",
      "Epoch 30/200\n",
      "210/210 - 1s - loss: 0.4218 - accuracy: 0.8286 - val_loss: 0.4140 - val_accuracy: 0.8300\n",
      "Epoch 31/200\n",
      "210/210 - 1s - loss: 0.4200 - accuracy: 0.8290 - val_loss: 0.4045 - val_accuracy: 0.8156\n",
      "Epoch 32/200\n",
      "210/210 - 1s - loss: 0.4196 - accuracy: 0.8300 - val_loss: 0.4097 - val_accuracy: 0.8333\n",
      "Epoch 33/200\n",
      "210/210 - 1s - loss: 0.4197 - accuracy: 0.8314 - val_loss: 0.4133 - val_accuracy: 0.8300\n",
      "Epoch 34/200\n",
      "210/210 - 1s - loss: 0.4180 - accuracy: 0.8343 - val_loss: 0.4047 - val_accuracy: 0.8300\n",
      "Epoch 35/200\n",
      "210/210 - 1s - loss: 0.4169 - accuracy: 0.8329 - val_loss: 0.4049 - val_accuracy: 0.8322\n",
      "Epoch 36/200\n",
      "210/210 - 1s - loss: 0.4163 - accuracy: 0.8314 - val_loss: 0.4005 - val_accuracy: 0.8289\n",
      "Epoch 37/200\n",
      "210/210 - 1s - loss: 0.4151 - accuracy: 0.8348 - val_loss: 0.4111 - val_accuracy: 0.8333\n",
      "Epoch 38/200\n",
      "210/210 - 1s - loss: 0.4152 - accuracy: 0.8343 - val_loss: 0.4026 - val_accuracy: 0.8356\n",
      "Epoch 39/200\n",
      "210/210 - 1s - loss: 0.4145 - accuracy: 0.8314 - val_loss: 0.4172 - val_accuracy: 0.8289\n",
      "Epoch 40/200\n",
      "210/210 - 1s - loss: 0.4156 - accuracy: 0.8348 - val_loss: 0.4100 - val_accuracy: 0.8322\n",
      "Epoch 41/200\n",
      "210/210 - 1s - loss: 0.4128 - accuracy: 0.8319 - val_loss: 0.4017 - val_accuracy: 0.8389\n",
      "Epoch 42/200\n",
      "210/210 - 1s - loss: 0.4130 - accuracy: 0.8357 - val_loss: 0.4001 - val_accuracy: 0.8411\n",
      "Epoch 43/200\n",
      "210/210 - 1s - loss: 0.4123 - accuracy: 0.8357 - val_loss: 0.4041 - val_accuracy: 0.8411\n",
      "Epoch 44/200\n",
      "210/210 - 1s - loss: 0.4108 - accuracy: 0.8338 - val_loss: 0.4129 - val_accuracy: 0.8278\n",
      "Epoch 45/200\n",
      "210/210 - 1s - loss: 0.4119 - accuracy: 0.8338 - val_loss: 0.4099 - val_accuracy: 0.8344\n",
      "Epoch 46/200\n",
      "210/210 - 1s - loss: 0.4116 - accuracy: 0.8348 - val_loss: 0.4033 - val_accuracy: 0.8411\n",
      "Epoch 47/200\n",
      "210/210 - 1s - loss: 0.4102 - accuracy: 0.8376 - val_loss: 0.3959 - val_accuracy: 0.8367\n",
      "Epoch 48/200\n",
      "210/210 - 1s - loss: 0.4100 - accuracy: 0.8357 - val_loss: 0.3990 - val_accuracy: 0.8444\n",
      "Epoch 49/200\n",
      "210/210 - 1s - loss: 0.4108 - accuracy: 0.8314 - val_loss: 0.3972 - val_accuracy: 0.8433\n",
      "Epoch 50/200\n",
      "210/210 - 1s - loss: 0.4104 - accuracy: 0.8371 - val_loss: 0.3960 - val_accuracy: 0.8422\n",
      "Epoch 51/200\n",
      "210/210 - 1s - loss: 0.4094 - accuracy: 0.8290 - val_loss: 0.3951 - val_accuracy: 0.8389\n",
      "Epoch 52/200\n",
      "210/210 - 1s - loss: 0.4095 - accuracy: 0.8390 - val_loss: 0.3902 - val_accuracy: 0.8267\n",
      "Epoch 53/200\n",
      "210/210 - 1s - loss: 0.4088 - accuracy: 0.8333 - val_loss: 0.3969 - val_accuracy: 0.8444\n",
      "Epoch 54/200\n",
      "210/210 - 1s - loss: 0.4081 - accuracy: 0.8376 - val_loss: 0.3933 - val_accuracy: 0.8378\n",
      "Epoch 55/200\n",
      "210/210 - 1s - loss: 0.4077 - accuracy: 0.8390 - val_loss: 0.3930 - val_accuracy: 0.8400\n",
      "Epoch 56/200\n",
      "210/210 - 1s - loss: 0.4061 - accuracy: 0.8376 - val_loss: 0.4036 - val_accuracy: 0.8356\n",
      "Epoch 57/200\n",
      "210/210 - 1s - loss: 0.4058 - accuracy: 0.8381 - val_loss: 0.3912 - val_accuracy: 0.8144\n",
      "Epoch 58/200\n",
      "210/210 - 1s - loss: 0.4060 - accuracy: 0.8348 - val_loss: 0.3878 - val_accuracy: 0.8300\n",
      "Epoch 59/200\n",
      "210/210 - 1s - loss: 0.4075 - accuracy: 0.8410 - val_loss: 0.3963 - val_accuracy: 0.8433\n",
      "Epoch 60/200\n",
      "210/210 - 1s - loss: 0.4057 - accuracy: 0.8376 - val_loss: 0.3898 - val_accuracy: 0.8389\n",
      "Epoch 61/200\n",
      "210/210 - 1s - loss: 0.4063 - accuracy: 0.8338 - val_loss: 0.3870 - val_accuracy: 0.8311\n",
      "Epoch 62/200\n",
      "210/210 - 1s - loss: 0.4059 - accuracy: 0.8371 - val_loss: 0.3994 - val_accuracy: 0.8378\n",
      "Epoch 63/200\n",
      "210/210 - 1s - loss: 0.4047 - accuracy: 0.8362 - val_loss: 0.3915 - val_accuracy: 0.8422\n",
      "Epoch 64/200\n",
      "210/210 - 1s - loss: 0.4058 - accuracy: 0.8400 - val_loss: 0.3893 - val_accuracy: 0.8389\n",
      "Epoch 65/200\n",
      "210/210 - 1s - loss: 0.4053 - accuracy: 0.8376 - val_loss: 0.3886 - val_accuracy: 0.8156\n",
      "Epoch 66/200\n",
      "210/210 - 1s - loss: 0.4058 - accuracy: 0.8338 - val_loss: 0.3902 - val_accuracy: 0.8422\n",
      "Epoch 67/200\n",
      "210/210 - 1s - loss: 0.4061 - accuracy: 0.8386 - val_loss: 0.3931 - val_accuracy: 0.8422\n",
      "Epoch 68/200\n",
      "210/210 - 1s - loss: 0.4051 - accuracy: 0.8371 - val_loss: 0.3904 - val_accuracy: 0.8400\n",
      "Epoch 69/200\n",
      "210/210 - 1s - loss: 0.4033 - accuracy: 0.8386 - val_loss: 0.3928 - val_accuracy: 0.8422\n",
      "Epoch 70/200\n",
      "210/210 - 1s - loss: 0.4030 - accuracy: 0.8371 - val_loss: 0.3977 - val_accuracy: 0.8389\n",
      "Epoch 71/200\n",
      "210/210 - 1s - loss: 0.4029 - accuracy: 0.8395 - val_loss: 0.3865 - val_accuracy: 0.8411\n",
      "Epoch 72/200\n",
      "210/210 - 1s - loss: 0.4052 - accuracy: 0.8395 - val_loss: 0.3938 - val_accuracy: 0.8411\n",
      "Epoch 73/200\n",
      "210/210 - 1s - loss: 0.4031 - accuracy: 0.8371 - val_loss: 0.3931 - val_accuracy: 0.8411\n",
      "Epoch 74/200\n",
      "210/210 - 1s - loss: 0.4023 - accuracy: 0.8405 - val_loss: 0.3896 - val_accuracy: 0.8422\n",
      "Epoch 75/200\n",
      "210/210 - 1s - loss: 0.4028 - accuracy: 0.8362 - val_loss: 0.3835 - val_accuracy: 0.8433\n",
      "Epoch 76/200\n",
      "210/210 - 1s - loss: 0.4028 - accuracy: 0.8357 - val_loss: 0.3829 - val_accuracy: 0.8433\n",
      "Epoch 77/200\n",
      "210/210 - 1s - loss: 0.4023 - accuracy: 0.8381 - val_loss: 0.3884 - val_accuracy: 0.8422\n",
      "Epoch 78/200\n",
      "210/210 - 1s - loss: 0.4023 - accuracy: 0.8376 - val_loss: 0.3847 - val_accuracy: 0.8422\n",
      "Epoch 79/200\n",
      "210/210 - 1s - loss: 0.4039 - accuracy: 0.8324 - val_loss: 0.3886 - val_accuracy: 0.8433\n",
      "Epoch 80/200\n",
      "210/210 - 1s - loss: 0.4008 - accuracy: 0.8352 - val_loss: 0.3830 - val_accuracy: 0.8422\n",
      "Epoch 81/200\n",
      "210/210 - 1s - loss: 0.4013 - accuracy: 0.8371 - val_loss: 0.3821 - val_accuracy: 0.8444\n"
     ]
    },
    {
     "name": "stdout",
     "output_type": "stream",
     "text": [
      "Epoch 82/200\n",
      "210/210 - 1s - loss: 0.4003 - accuracy: 0.8376 - val_loss: 0.3818 - val_accuracy: 0.8422\n",
      "Epoch 83/200\n",
      "210/210 - 1s - loss: 0.4024 - accuracy: 0.8367 - val_loss: 0.3854 - val_accuracy: 0.8444\n",
      "Epoch 84/200\n",
      "210/210 - 1s - loss: 0.4002 - accuracy: 0.8381 - val_loss: 0.3809 - val_accuracy: 0.8233\n",
      "Epoch 85/200\n",
      "210/210 - 1s - loss: 0.4028 - accuracy: 0.8371 - val_loss: 0.3817 - val_accuracy: 0.8456\n",
      "Epoch 86/200\n",
      "210/210 - 1s - loss: 0.4005 - accuracy: 0.8400 - val_loss: 0.3794 - val_accuracy: 0.8289\n",
      "Epoch 87/200\n",
      "210/210 - 1s - loss: 0.3996 - accuracy: 0.8386 - val_loss: 0.3800 - val_accuracy: 0.8256\n",
      "Epoch 88/200\n",
      "210/210 - 1s - loss: 0.4011 - accuracy: 0.8367 - val_loss: 0.3825 - val_accuracy: 0.8433\n",
      "Epoch 89/200\n",
      "210/210 - 1s - loss: 0.4013 - accuracy: 0.8371 - val_loss: 0.3936 - val_accuracy: 0.8433\n",
      "Epoch 90/200\n",
      "210/210 - 1s - loss: 0.4009 - accuracy: 0.8390 - val_loss: 0.3899 - val_accuracy: 0.8433\n",
      "Epoch 91/200\n",
      "210/210 - 1s - loss: 0.3993 - accuracy: 0.8371 - val_loss: 0.4015 - val_accuracy: 0.8422\n",
      "Epoch 92/200\n",
      "210/210 - 1s - loss: 0.4010 - accuracy: 0.8352 - val_loss: 0.3785 - val_accuracy: 0.8311\n",
      "Epoch 93/200\n",
      "210/210 - 1s - loss: 0.3999 - accuracy: 0.8419 - val_loss: 0.3869 - val_accuracy: 0.8467\n",
      "Epoch 94/200\n",
      "210/210 - 1s - loss: 0.3986 - accuracy: 0.8390 - val_loss: 0.3788 - val_accuracy: 0.8411\n",
      "Epoch 95/200\n",
      "210/210 - 1s - loss: 0.3984 - accuracy: 0.8405 - val_loss: 0.3942 - val_accuracy: 0.8433\n",
      "Epoch 96/200\n",
      "210/210 - 1s - loss: 0.4001 - accuracy: 0.8371 - val_loss: 0.3937 - val_accuracy: 0.8433\n",
      "Epoch 97/200\n",
      "210/210 - 1s - loss: 0.3994 - accuracy: 0.8381 - val_loss: 0.3847 - val_accuracy: 0.8444\n",
      "Epoch 98/200\n",
      "210/210 - 1s - loss: 0.4024 - accuracy: 0.8419 - val_loss: 0.3839 - val_accuracy: 0.8467\n",
      "Epoch 99/200\n",
      "210/210 - 1s - loss: 0.3989 - accuracy: 0.8367 - val_loss: 0.3887 - val_accuracy: 0.8433\n",
      "Epoch 100/200\n",
      "210/210 - 1s - loss: 0.3990 - accuracy: 0.8329 - val_loss: 0.3848 - val_accuracy: 0.8456\n",
      "Epoch 101/200\n",
      "210/210 - 1s - loss: 0.3981 - accuracy: 0.8414 - val_loss: 0.3836 - val_accuracy: 0.8478\n",
      "Epoch 102/200\n",
      "210/210 - 1s - loss: 0.3976 - accuracy: 0.8448 - val_loss: 0.3830 - val_accuracy: 0.8478\n",
      "Epoch 103/200\n",
      "210/210 - 1s - loss: 0.3955 - accuracy: 0.8433 - val_loss: 0.3784 - val_accuracy: 0.8444\n",
      "Epoch 104/200\n",
      "210/210 - 1s - loss: 0.3980 - accuracy: 0.8386 - val_loss: 0.3836 - val_accuracy: 0.8489\n",
      "Epoch 105/200\n",
      "210/210 - 1s - loss: 0.3963 - accuracy: 0.8400 - val_loss: 0.3925 - val_accuracy: 0.8456\n",
      "Epoch 106/200\n",
      "210/210 - 1s - loss: 0.3969 - accuracy: 0.8357 - val_loss: 0.3981 - val_accuracy: 0.8478\n",
      "Epoch 107/200\n",
      "210/210 - 1s - loss: 0.3985 - accuracy: 0.8414 - val_loss: 0.3790 - val_accuracy: 0.8467\n",
      "Epoch 108/200\n",
      "210/210 - 1s - loss: 0.3982 - accuracy: 0.8371 - val_loss: 0.3915 - val_accuracy: 0.8467\n",
      "Epoch 109/200\n",
      "210/210 - 1s - loss: 0.3978 - accuracy: 0.8343 - val_loss: 0.3787 - val_accuracy: 0.8456\n",
      "Epoch 110/200\n",
      "210/210 - 1s - loss: 0.3981 - accuracy: 0.8352 - val_loss: 0.3825 - val_accuracy: 0.8489\n",
      "Epoch 111/200\n",
      "210/210 - 1s - loss: 0.3970 - accuracy: 0.8395 - val_loss: 0.3920 - val_accuracy: 0.8456\n",
      "Epoch 112/200\n",
      "210/210 - 1s - loss: 0.3962 - accuracy: 0.8429 - val_loss: 0.3927 - val_accuracy: 0.8456\n",
      "Epoch 113/200\n",
      "210/210 - 1s - loss: 0.3952 - accuracy: 0.8381 - val_loss: 0.3758 - val_accuracy: 0.8389\n",
      "Epoch 114/200\n",
      "210/210 - 1s - loss: 0.3965 - accuracy: 0.8386 - val_loss: 0.3989 - val_accuracy: 0.8478\n",
      "Epoch 115/200\n",
      "210/210 - 1s - loss: 0.3981 - accuracy: 0.8400 - val_loss: 0.3838 - val_accuracy: 0.8489\n",
      "Epoch 116/200\n",
      "210/210 - 1s - loss: 0.3959 - accuracy: 0.8400 - val_loss: 0.3881 - val_accuracy: 0.8467\n",
      "Epoch 117/200\n",
      "210/210 - 1s - loss: 0.3965 - accuracy: 0.8395 - val_loss: 0.3828 - val_accuracy: 0.8478\n",
      "Epoch 118/200\n",
      "210/210 - 1s - loss: 0.3967 - accuracy: 0.8400 - val_loss: 0.3850 - val_accuracy: 0.8478\n",
      "Epoch 119/200\n",
      "210/210 - 1s - loss: 0.3954 - accuracy: 0.8405 - val_loss: 0.3799 - val_accuracy: 0.8489\n",
      "Epoch 120/200\n",
      "210/210 - 1s - loss: 0.3983 - accuracy: 0.8386 - val_loss: 0.3779 - val_accuracy: 0.8478\n",
      "Epoch 121/200\n",
      "210/210 - 1s - loss: 0.3944 - accuracy: 0.8386 - val_loss: 0.3844 - val_accuracy: 0.8467\n",
      "Epoch 122/200\n",
      "210/210 - 1s - loss: 0.3965 - accuracy: 0.8357 - val_loss: 0.3782 - val_accuracy: 0.8500\n",
      "Epoch 123/200\n",
      "210/210 - 1s - loss: 0.3958 - accuracy: 0.8395 - val_loss: 0.3953 - val_accuracy: 0.8489\n",
      "Epoch 124/200\n",
      "210/210 - 1s - loss: 0.3981 - accuracy: 0.8362 - val_loss: 0.3740 - val_accuracy: 0.8367\n",
      "Epoch 125/200\n",
      "210/210 - 1s - loss: 0.3962 - accuracy: 0.8400 - val_loss: 0.3739 - val_accuracy: 0.8367\n",
      "Epoch 126/200\n",
      "210/210 - 1s - loss: 0.3979 - accuracy: 0.8395 - val_loss: 0.3868 - val_accuracy: 0.8467\n",
      "Epoch 127/200\n",
      "210/210 - 1s - loss: 0.3959 - accuracy: 0.8381 - val_loss: 0.3753 - val_accuracy: 0.8444\n",
      "Epoch 128/200\n",
      "210/210 - 1s - loss: 0.3948 - accuracy: 0.8386 - val_loss: 0.3761 - val_accuracy: 0.8467\n",
      "Epoch 129/200\n",
      "210/210 - 1s - loss: 0.3937 - accuracy: 0.8343 - val_loss: 0.3928 - val_accuracy: 0.8500\n",
      "Epoch 130/200\n",
      "210/210 - 1s - loss: 0.3958 - accuracy: 0.8410 - val_loss: 0.3733 - val_accuracy: 0.8389\n",
      "Epoch 131/200\n",
      "210/210 - 1s - loss: 0.3955 - accuracy: 0.8371 - val_loss: 0.3820 - val_accuracy: 0.8489\n",
      "Epoch 132/200\n",
      "210/210 - 1s - loss: 0.3954 - accuracy: 0.8419 - val_loss: 0.3874 - val_accuracy: 0.8489\n",
      "Epoch 133/200\n",
      "210/210 - 1s - loss: 0.3946 - accuracy: 0.8414 - val_loss: 0.3810 - val_accuracy: 0.8511\n",
      "Epoch 134/200\n",
      "210/210 - 1s - loss: 0.3942 - accuracy: 0.8400 - val_loss: 0.3890 - val_accuracy: 0.8511\n",
      "Epoch 135/200\n",
      "210/210 - 1s - loss: 0.3955 - accuracy: 0.8367 - val_loss: 0.3817 - val_accuracy: 0.8511\n",
      "Epoch 136/200\n",
      "210/210 - 1s - loss: 0.3940 - accuracy: 0.8410 - val_loss: 0.3719 - val_accuracy: 0.8378\n",
      "Epoch 137/200\n",
      "210/210 - 1s - loss: 0.3940 - accuracy: 0.8381 - val_loss: 0.3813 - val_accuracy: 0.8511\n",
      "Epoch 138/200\n",
      "210/210 - 1s - loss: 0.3957 - accuracy: 0.8381 - val_loss: 0.3759 - val_accuracy: 0.8478\n",
      "Epoch 139/200\n",
      "210/210 - 1s - loss: 0.3958 - accuracy: 0.8395 - val_loss: 0.3823 - val_accuracy: 0.8511\n",
      "Epoch 140/200\n",
      "210/210 - 1s - loss: 0.3964 - accuracy: 0.8376 - val_loss: 0.3742 - val_accuracy: 0.8444\n",
      "Epoch 141/200\n",
      "210/210 - 1s - loss: 0.3943 - accuracy: 0.8376 - val_loss: 0.3750 - val_accuracy: 0.8489\n",
      "Epoch 142/200\n",
      "210/210 - 1s - loss: 0.3949 - accuracy: 0.8390 - val_loss: 0.3762 - val_accuracy: 0.8489\n",
      "Epoch 143/200\n",
      "210/210 - 1s - loss: 0.3926 - accuracy: 0.8348 - val_loss: 0.3783 - val_accuracy: 0.8489\n",
      "Epoch 144/200\n",
      "210/210 - 1s - loss: 0.3926 - accuracy: 0.8400 - val_loss: 0.3744 - val_accuracy: 0.8467\n",
      "Epoch 145/200\n",
      "210/210 - 1s - loss: 0.3923 - accuracy: 0.8414 - val_loss: 0.3791 - val_accuracy: 0.8489\n",
      "Epoch 146/200\n",
      "210/210 - 1s - loss: 0.3945 - accuracy: 0.8376 - val_loss: 0.3738 - val_accuracy: 0.8400\n",
      "Epoch 147/200\n",
      "210/210 - 1s - loss: 0.3924 - accuracy: 0.8419 - val_loss: 0.3720 - val_accuracy: 0.8389\n",
      "Epoch 148/200\n",
      "210/210 - 1s - loss: 0.3933 - accuracy: 0.8367 - val_loss: 0.3786 - val_accuracy: 0.8500\n",
      "Epoch 149/200\n",
      "210/210 - 1s - loss: 0.3931 - accuracy: 0.8381 - val_loss: 0.3721 - val_accuracy: 0.8411\n",
      "Epoch 150/200\n",
      "210/210 - 1s - loss: 0.3927 - accuracy: 0.8371 - val_loss: 0.3747 - val_accuracy: 0.8489\n",
      "Epoch 151/200\n",
      "210/210 - 1s - loss: 0.3929 - accuracy: 0.8400 - val_loss: 0.4004 - val_accuracy: 0.8489\n",
      "Epoch 152/200\n",
      "210/210 - 1s - loss: 0.3926 - accuracy: 0.8405 - val_loss: 0.3710 - val_accuracy: 0.8289\n",
      "Epoch 153/200\n",
      "210/210 - 1s - loss: 0.3945 - accuracy: 0.8381 - val_loss: 0.3903 - val_accuracy: 0.8522\n",
      "Epoch 154/200\n",
      "210/210 - 1s - loss: 0.3907 - accuracy: 0.8338 - val_loss: 0.3806 - val_accuracy: 0.8556\n",
      "Epoch 155/200\n",
      "210/210 - 1s - loss: 0.3926 - accuracy: 0.8405 - val_loss: 0.3906 - val_accuracy: 0.8522\n",
      "Epoch 156/200\n",
      "210/210 - 1s - loss: 0.3936 - accuracy: 0.8386 - val_loss: 0.3765 - val_accuracy: 0.8478\n",
      "Epoch 157/200\n",
      "210/210 - 1s - loss: 0.3909 - accuracy: 0.8381 - val_loss: 0.3779 - val_accuracy: 0.8511\n",
      "Epoch 158/200\n",
      "210/210 - 1s - loss: 0.3943 - accuracy: 0.8390 - val_loss: 0.3927 - val_accuracy: 0.8489\n",
      "Epoch 159/200\n",
      "210/210 - 1s - loss: 0.3949 - accuracy: 0.8343 - val_loss: 0.3710 - val_accuracy: 0.8356\n",
      "Epoch 160/200\n",
      "210/210 - 1s - loss: 0.3937 - accuracy: 0.8376 - val_loss: 0.3750 - val_accuracy: 0.8489\n",
      "Epoch 161/200\n",
      "210/210 - 1s - loss: 0.3918 - accuracy: 0.8376 - val_loss: 0.3740 - val_accuracy: 0.8478\n"
     ]
    },
    {
     "name": "stdout",
     "output_type": "stream",
     "text": [
      "Epoch 162/200\n",
      "210/210 - 1s - loss: 0.3920 - accuracy: 0.8376 - val_loss: 0.3785 - val_accuracy: 0.8533\n",
      "Epoch 163/200\n",
      "210/210 - 1s - loss: 0.3918 - accuracy: 0.8390 - val_loss: 0.3747 - val_accuracy: 0.8478\n",
      "Epoch 164/200\n",
      "210/210 - 1s - loss: 0.3929 - accuracy: 0.8376 - val_loss: 0.3726 - val_accuracy: 0.8433\n",
      "Epoch 165/200\n",
      "210/210 - 1s - loss: 0.3919 - accuracy: 0.8390 - val_loss: 0.3721 - val_accuracy: 0.8200\n",
      "Epoch 166/200\n",
      "210/210 - 1s - loss: 0.3923 - accuracy: 0.8400 - val_loss: 0.3734 - val_accuracy: 0.8489\n",
      "Epoch 167/200\n",
      "210/210 - 0s - loss: 0.3913 - accuracy: 0.8357 - val_loss: 0.3816 - val_accuracy: 0.8556\n",
      "Epoch 168/200\n",
      "210/210 - 0s - loss: 0.3928 - accuracy: 0.8329 - val_loss: 0.3719 - val_accuracy: 0.8433\n",
      "Epoch 169/200\n",
      "210/210 - 1s - loss: 0.3953 - accuracy: 0.8276 - val_loss: 0.3761 - val_accuracy: 0.8489\n",
      "Epoch 170/200\n",
      "210/210 - 1s - loss: 0.3928 - accuracy: 0.8390 - val_loss: 0.3793 - val_accuracy: 0.8544\n",
      "Epoch 171/200\n",
      "210/210 - 1s - loss: 0.3906 - accuracy: 0.8390 - val_loss: 0.3801 - val_accuracy: 0.8567\n",
      "Epoch 172/200\n",
      "210/210 - 1s - loss: 0.3914 - accuracy: 0.8390 - val_loss: 0.3710 - val_accuracy: 0.8411\n",
      "Epoch 173/200\n",
      "210/210 - 1s - loss: 0.3947 - accuracy: 0.8410 - val_loss: 0.3727 - val_accuracy: 0.8467\n",
      "Epoch 174/200\n",
      "210/210 - 1s - loss: 0.3926 - accuracy: 0.8343 - val_loss: 0.3765 - val_accuracy: 0.8456\n",
      "Epoch 175/200\n",
      "210/210 - 1s - loss: 0.3920 - accuracy: 0.8371 - val_loss: 0.3703 - val_accuracy: 0.8400\n",
      "Epoch 176/200\n",
      "210/210 - 1s - loss: 0.3924 - accuracy: 0.8381 - val_loss: 0.3720 - val_accuracy: 0.8444\n",
      "Epoch 177/200\n",
      "210/210 - 1s - loss: 0.3900 - accuracy: 0.8376 - val_loss: 0.3698 - val_accuracy: 0.8244\n",
      "Epoch 178/200\n",
      "210/210 - 1s - loss: 0.3921 - accuracy: 0.8367 - val_loss: 0.3780 - val_accuracy: 0.8533\n",
      "Epoch 179/200\n",
      "210/210 - 1s - loss: 0.3914 - accuracy: 0.8362 - val_loss: 0.3694 - val_accuracy: 0.8244\n",
      "Epoch 180/200\n",
      "210/210 - 1s - loss: 0.3920 - accuracy: 0.8362 - val_loss: 0.3723 - val_accuracy: 0.8456\n",
      "Epoch 181/200\n",
      "210/210 - 1s - loss: 0.3914 - accuracy: 0.8371 - val_loss: 0.3771 - val_accuracy: 0.8533\n",
      "Epoch 182/200\n",
      "210/210 - 1s - loss: 0.3922 - accuracy: 0.8381 - val_loss: 0.3737 - val_accuracy: 0.8478\n",
      "Epoch 183/200\n",
      "210/210 - 1s - loss: 0.3906 - accuracy: 0.8381 - val_loss: 0.3768 - val_accuracy: 0.8533\n",
      "Epoch 184/200\n",
      "210/210 - 1s - loss: 0.3915 - accuracy: 0.8348 - val_loss: 0.3729 - val_accuracy: 0.8467\n",
      "Epoch 185/200\n",
      "210/210 - 1s - loss: 0.3911 - accuracy: 0.8390 - val_loss: 0.3700 - val_accuracy: 0.8422\n",
      "Epoch 186/200\n",
      "210/210 - 1s - loss: 0.3904 - accuracy: 0.8381 - val_loss: 0.3715 - val_accuracy: 0.8433\n",
      "Epoch 187/200\n",
      "210/210 - 1s - loss: 0.3926 - accuracy: 0.8324 - val_loss: 0.3741 - val_accuracy: 0.8467\n",
      "Epoch 188/200\n",
      "210/210 - 1s - loss: 0.3917 - accuracy: 0.8338 - val_loss: 0.3718 - val_accuracy: 0.8467\n",
      "Epoch 189/200\n",
      "210/210 - 1s - loss: 0.3909 - accuracy: 0.8390 - val_loss: 0.3857 - val_accuracy: 0.8511\n",
      "Epoch 190/200\n",
      "210/210 - 1s - loss: 0.3903 - accuracy: 0.8390 - val_loss: 0.3903 - val_accuracy: 0.8500\n",
      "Epoch 191/200\n",
      "210/210 - 1s - loss: 0.3910 - accuracy: 0.8386 - val_loss: 0.3683 - val_accuracy: 0.8267\n",
      "Epoch 192/200\n",
      "210/210 - 1s - loss: 0.3914 - accuracy: 0.8381 - val_loss: 0.3689 - val_accuracy: 0.8400\n",
      "Epoch 193/200\n",
      "210/210 - 1s - loss: 0.3898 - accuracy: 0.8405 - val_loss: 0.3952 - val_accuracy: 0.8489\n",
      "Epoch 194/200\n",
      "210/210 - 1s - loss: 0.3916 - accuracy: 0.8348 - val_loss: 0.3709 - val_accuracy: 0.8444\n",
      "Epoch 195/200\n",
      "210/210 - 1s - loss: 0.3913 - accuracy: 0.8390 - val_loss: 0.3720 - val_accuracy: 0.8456\n",
      "Epoch 196/200\n",
      "210/210 - 1s - loss: 0.3927 - accuracy: 0.8343 - val_loss: 0.3777 - val_accuracy: 0.8522\n",
      "Epoch 197/200\n",
      "210/210 - 1s - loss: 0.3899 - accuracy: 0.8390 - val_loss: 0.3892 - val_accuracy: 0.8489\n",
      "Epoch 198/200\n",
      "210/210 - 1s - loss: 0.3930 - accuracy: 0.8324 - val_loss: 0.3866 - val_accuracy: 0.8522\n",
      "Epoch 199/200\n",
      "210/210 - 1s - loss: 0.3876 - accuracy: 0.8405 - val_loss: 0.3685 - val_accuracy: 0.8211\n",
      "Epoch 200/200\n",
      "210/210 - 1s - loss: 0.3917 - accuracy: 0.8357 - val_loss: 0.3804 - val_accuracy: 0.8567\n"
     ]
    }
   ],
   "source": [
    "#fit the model\n",
    "model_info = model.fit(train_colors, train_color_results, epochs=200, batch_size=10, validation_split=0.3, \n",
    "                       shuffle=True, verbose=2)"
   ]
  },
  {
   "cell_type": "markdown",
   "metadata": {},
   "source": [
    "Calculate accuracy and plot a accuracy and loss plot"
   ]
  },
  {
   "cell_type": "code",
   "execution_count": 27,
   "metadata": {},
   "outputs": [
    {
     "name": "stdout",
     "output_type": "stream",
     "text": [
      "94/94 [==============================] - 0s 3ms/step - loss: 0.3864 - accuracy: 0.8453\n",
      "\n",
      "accuracy: 84.53%\n"
     ]
    }
   ],
   "source": [
    "#evaluate the model\n",
    "scores = model.evaluate(train_colors, train_color_results)\n",
    "print(\"\\n%s: %.2f%%\" % (model.metrics_names[1], scores[1]*100))"
   ]
  },
  {
   "cell_type": "code",
   "execution_count": 28,
   "metadata": {},
   "outputs": [
    {
     "data": {
      "text/plain": [
       "dict_keys(['loss', 'accuracy', 'val_loss', 'val_accuracy'])"
      ]
     },
     "execution_count": 28,
     "metadata": {},
     "output_type": "execute_result"
    }
   ],
   "source": [
    "model_info.history.keys()\n",
    "#use these keys while plotting"
   ]
  },
  {
   "cell_type": "code",
   "execution_count": 29,
   "metadata": {
    "scrolled": true
   },
   "outputs": [
    {
     "data": {
      "image/png": "[encoded data removed]",
      "text/plain": [
       "<Figure size 1080x360 with 2 Axes>"
      ]
     },
     "metadata": {
      "needs_background": "light"
     },
     "output_type": "display_data"
    }
   ],
   "source": [
    "fig, axs = plt.subplots(1,2,figsize=(15,5))\n",
    "axs[0].plot(range(1,len(model_info.history['accuracy'])+1),model_info.history['accuracy'])\n",
    "axs[0].plot(range(1,len(model_info.history['val_accuracy'])+1),model_info.history['val_accuracy'])\n",
    "axs[0].set_title('Model Accuracy')\n",
    "axs[0].set_ylabel('Accuracy')\n",
    "axs[0].set_xlabel('Epoch')\n",
    "axs[0].get_xaxis().set_minor_locator(matplotlib.ticker.AutoMinorLocator())\n",
    "axs[0].get_yaxis().set_minor_locator(matplotlib.ticker.AutoMinorLocator())\n",
    "axs[0].legend(['train', 'value'], loc='best')\n",
    "\n",
    "axs[1].plot(range(1,len(model_info.history['loss'])+1),model_info.history['loss'])\n",
    "axs[1].plot(range(1,len(model_info.history['val_loss'])+1),model_info.history['val_loss'])\n",
    "axs[1].set_title('Model Loss')\n",
    "axs[1].set_ylabel('Loss')\n",
    "axs[1].set_xlabel('Epoch')\n",
    "axs[1].get_xaxis().set_minor_locator(matplotlib.ticker.AutoMinorLocator())\n",
    "axs[1].get_yaxis().set_minor_locator(matplotlib.ticker.AutoMinorLocator())\n",
    "axs[1].legend(['train', 'value'], loc='best')\n",
    "plt.show()"
   ]
  },
  {
   "cell_type": "code",
   "execution_count": 30,
   "metadata": {},
   "outputs": [
    {
     "data": {
      "text/plain": [
       "0.855"
      ]
     },
     "execution_count": 30,
     "metadata": {},
     "output_type": "execute_result"
    }
   ],
   "source": [
    "from sklearn.metrics import accuracy_score\n",
    "#test the trained model using the test data\n",
    "test_pred_colors = model.predict(test_col)\n",
    "\n",
    "#round the probabilities\n",
    "test_pred_colors = np.around(test_pred_colors)\n",
    "\n",
    "#print accuracy score\n",
    "accuracy_score(test_col_results, test_pred_colors)"
   ]
  },
  {
   "cell_type": "markdown",
   "metadata": {},
   "source": [
    "#### Note :\n",
    "The data was provided by Ashish Mahabal during the 7BISS (2020) summer school."
   ]
  }
 ],
 "metadata": {
  "kernelspec": {
   "display_name": "Python 3",
   "language": "python",
   "name": "python3"
  },
  "language_info": {
   "codemirror_mode": {
    "name": "ipython",
    "version": 3
   },
   "file_extension": ".py",
   "mimetype": "text/x-python",
   "name": "python",
   "nbconvert_exporter": "python",
   "pygments_lexer": "ipython3",
   "version": "3.7.5"
  }
 },
 "nbformat": 4,
 "nbformat_minor": 4
}
